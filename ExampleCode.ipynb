{
 "cells": [
  {
   "cell_type": "code",
   "execution_count": 6,
   "id": "64949500-70a0-4556-af17-6fe2e807abf9",
   "metadata": {},
   "outputs": [],
   "source": [
    "from mini_batch_algo import *\n",
    "from full_batch_algo import *\n",
    "import pickle as pkl"
   ]
  },
  {
   "cell_type": "code",
   "execution_count": null,
   "id": "edd83109-1cb7-41bd-8837-a5f21dc88024",
   "metadata": {},
   "outputs": [
    {
     "name": "stdout",
     "output_type": "stream",
     "text": [
      "training with ver _5_turns\n"
     ]
    },
    {
     "name": "stderr",
     "output_type": "stream",
     "text": [
      "  1%|▌                                                 | 10/1000 [00:02<03:49,  4.31it/s]"
     ]
    },
    {
     "name": "stdout",
     "output_type": "stream",
     "text": [
      "Iteration 10, Loss: 1.0984589739811599\n",
      "Iteration 10, Val accuracy: 0.3427756124721604\n"
     ]
    },
    {
     "name": "stderr",
     "output_type": "stream",
     "text": [
      "  2%|█                                                 | 20/1000 [00:04<03:44,  4.37it/s]"
     ]
    },
    {
     "name": "stdout",
     "output_type": "stream",
     "text": [
      "Iteration 20, Loss: 1.0984471271757354\n",
      "Iteration 20, Val accuracy: 0.34221881959910916\n"
     ]
    },
    {
     "name": "stderr",
     "output_type": "stream",
     "text": [
      "  3%|█▌                                                | 30/1000 [00:06<03:40,  4.40it/s]"
     ]
    },
    {
     "name": "stdout",
     "output_type": "stream",
     "text": [
      "Iteration 30, Loss: 1.0984353666355704\n",
      "Iteration 30, Val accuracy: 0.3420796213808463\n"
     ]
    },
    {
     "name": "stderr",
     "output_type": "stream",
     "text": [
      "  4%|██                                                | 40/1000 [00:09<03:39,  4.38it/s]"
     ]
    },
    {
     "name": "stdout",
     "output_type": "stream",
     "text": [
      "Iteration 40, Loss: 1.098423691631439\n",
      "Iteration 40, Val accuracy: 0.3416620267260579\n"
     ]
    },
    {
     "name": "stderr",
     "output_type": "stream",
     "text": [
      "  5%|██▌                                               | 50/1000 [00:11<03:36,  4.40it/s]"
     ]
    },
    {
     "name": "stdout",
     "output_type": "stream",
     "text": [
      "Iteration 50, Loss: 1.098412101440421\n",
      "Iteration 50, Val accuracy: 0.3419404231625835\n"
     ]
    },
    {
     "name": "stderr",
     "output_type": "stream",
     "text": [
      "  5%|██▋                                               | 53/1000 [00:12<03:42,  4.26it/s]\n"
     ]
    },
    {
     "name": "stdout",
     "output_type": "stream",
     "text": [
      "Early stopping condition reached, stopping training\n",
      "training with ver _5_turns\n"
     ]
    },
    {
     "name": "stderr",
     "output_type": "stream",
     "text": [
      "  0%|                                                           | 0/1000 [00:00<?, ?it/s]"
     ]
    }
   ],
   "source": [
    "learning_rates = [0.001, 0.005, 0.01, 0.05, 0.1]\n",
    "l1_l2 = [(0, 0), (0.001, 0), (0.005, 0), (0.01, 0), (0.05, 0), (0.1, 0) , (0.5, 0), (0, 0.001), (0, 0.005), (0.01, 0), (0, 0.05), (0, 0.1), (0, 0.5)]\n",
    "ver = \"_5_turns\"\n",
    "X_train = np.load(f\"split_data/X{ver}_train.npy\")\n",
    "Y_train = np.load(f\"split_data/Y{ver}_train.npy\")\n",
    "X_val = np.load(f\"split_data/X{ver}_val.npy\")\n",
    "Y_val = np.load(f\"split_data/Y{ver}_val.npy\")\n",
    "val_acc = {}\n",
    "for learning_rate in learning_rates:\n",
    "    for l1, l2 in l1_l2:\n",
    "        expriment_name = f\"softmax_regression_lr_{learning_rate}_l1_{l1}_l2_{l2}\"\n",
    "        print(f\"training with ver {ver}\")\n",
    "        model = SoftmaxRegression(num_classes= Y_val.shape[1], num_iterations = 1000, early_stop= 50, learning_rate=learning_rate, lambda1 = l1, lambda2 = l2, do_one_hot= False, experiment_name=expriment_name)\n",
    "        model.train(X_train, Y_train, X_val, Y_val)\n",
    "        val_acc[expriment_name] = model.training_info[\"best_accuracy\"]\n",
    "        with open(f\"history/{expriment_name}.pkl\", \"wb\") as f:\n",
    "            pkl.dump(model.training_info, f)"
   ]
  },
  {
   "cell_type": "code",
   "execution_count": null,
   "id": "881772c9-62f0-4286-8c04-a844ce341b73",
   "metadata": {},
   "outputs": [],
   "source": [
    "learning_rates = [0.001, 0.005, 0.01, 0.05, 0.1]\n",
    "l1_l2 = [(0, 0), (0.001, 0), (0.005, 0), (0.01, 0), (0.05, 0), (0.1, 0) , (0.5, 0), (0, 0.001), (0, 0.005), (0.01, 0), (0, 0.05), (0, 0.1), (0, 0.5)]\n",
    "batch_sizes = [1, 32, 64, 128, 256, 512, 1024]\n",
    "ver = \"_5_turns\"\n",
    "X_train = np.load(f\"split_data/X{ver}_train.npy\")\n",
    "Y_train = np.load(f\"split_data/Y{ver}_train.npy\")\n",
    "X_val = np.load(f\"split_data/X{ver}_val.npy\")\n",
    "Y_val = np.load(f\"split_data/Y{ver}_val.npy\")\n",
    "val_acc_mini = []\n",
    "for learning_rate in learning_rates:\n",
    "    for l1, l2 in l1_l2:\n",
    "        for batch_size in batch_sizes:\n",
    "            expriment_name = f\"softmax_regression_lr_{learning_rate}_l1_{l1}_l2_{l2}_batch_size_{batch_size}\"\n",
    "            print(f\"training with ver {ver}\")\n",
    "            model = SoftmaxRegressionM(num_classes= Y_val.shape[1], num_iterations = 2000, early_stop = 50, learning_rate=learning_rate, batch_size = batch_size, lambda1 = l1, lambda2 = l2, do_one_hot= False, experiment_name=expriment_name)\n",
    "            model.train(X_train, Y_train, X_val, Y_val)\n",
    "            val_acc_mini[expriment_name] = model.training_info[\"best_accuracy\"]\n",
    "            with open(f\"history/{expriment_name}.pkl\", \"wb\") as f:\n",
    "                pkl.dump(model.training_info, f)"
   ]
  },
  {
   "cell_type": "code",
   "execution_count": null,
   "id": "4e5dcae1-81bb-410a-b06d-fd189ac65f65",
   "metadata": {},
   "outputs": [],
   "source": []
  },
  {
   "cell_type": "code",
   "execution_count": null,
   "id": "e005dc6f-2345-4159-902f-fcb453ec1b92",
   "metadata": {},
   "outputs": [],
   "source": [
    "learning_rate = [0.01, 0.1, 0.5, 1, 5, 10]\n",
    "l1 = [0, 0.001, 0.005, 0.01, 0.05, 0.1, 0.5]\n",
    "l2 = [0, 0.001, 0.005, 0.01, 0.05, 0.1, 0.5]"
   ]
  }
 ],
 "metadata": {
  "kernelspec": {
   "display_name": "Python 3 (ipykernel)",
   "language": "python",
   "name": "python3"
  },
  "language_info": {
   "codemirror_mode": {
    "name": "ipython",
    "version": 3
   },
   "file_extension": ".py",
   "mimetype": "text/x-python",
   "name": "python",
   "nbconvert_exporter": "python",
   "pygments_lexer": "ipython3",
   "version": "3.11.9"
  }
 },
 "nbformat": 4,
 "nbformat_minor": 5
}
